{
 "cells": [
  {
   "cell_type": "code",
   "execution_count": 1,
   "id": "3b2d644f",
   "metadata": {},
   "outputs": [],
   "source": [
    "import pandas as pd\n",
    "import numpy as np\n",
    "import matplotlib.pyplot as plt\n",
    "import matplotlib as mpl\n",
    "\n",
    "from sklearn.linear_model import LinearRegression, LogisticRegression\n",
    "from sklearn.model_selection import train_test_split\n",
    "from sklearn.metrics import mean_squared_error, mean_absolute_error, r2_score, classification_report, accuracy_score, confusion_matrix, roc_curve, roc_auc_score\n",
    "from sklearn.feature_selection import VarianceThreshold\n",
    "from sklearn.pipeline import Pipeline\n",
    "from sklearn.calibration import CalibrationDisplay"
   ]
  },
  {
   "cell_type": "code",
   "execution_count": 2,
   "id": "48ee2e5b",
   "metadata": {},
   "outputs": [
    {
     "data": {
      "text/html": [
       "<div>\n",
       "<style scoped>\n",
       "    .dataframe tbody tr th:only-of-type {\n",
       "        vertical-align: middle;\n",
       "    }\n",
       "\n",
       "    .dataframe tbody tr th {\n",
       "        vertical-align: top;\n",
       "    }\n",
       "\n",
       "    .dataframe thead th {\n",
       "        text-align: right;\n",
       "    }\n",
       "</style>\n",
       "<table border=\"1\" class=\"dataframe\">\n",
       "  <thead>\n",
       "    <tr style=\"text-align: right;\">\n",
       "      <th></th>\n",
       "      <th>ID</th>\n",
       "      <th>CALENDAR_ID</th>\n",
       "      <th>SERVICE_ABBR</th>\n",
       "      <th>ADHERENCE_ID</th>\n",
       "      <th>DATE</th>\n",
       "      <th>ROUTE_ABBR</th>\n",
       "      <th>BLOCK_ABBR</th>\n",
       "      <th>OPERATOR</th>\n",
       "      <th>TRIP_ID</th>\n",
       "      <th>OVERLOAD_ID</th>\n",
       "      <th>...</th>\n",
       "      <th>ADJUSTED_ONTIME_COUNT</th>\n",
       "      <th>STOP_CANCELLED</th>\n",
       "      <th>PREV_SCHED_STOP_CANCELLED</th>\n",
       "      <th>IS_RELIEF</th>\n",
       "      <th>BLOCK_STOP_ORDER</th>\n",
       "      <th>DWELL_IN_MINS</th>\n",
       "      <th>NextDay_Scheduled</th>\n",
       "      <th>NextDay_Actual_Arrival</th>\n",
       "      <th>NextDay_Actual_Departure</th>\n",
       "      <th>STARTING_ADHERENCE</th>\n",
       "    </tr>\n",
       "  </thead>\n",
       "  <tbody>\n",
       "    <tr>\n",
       "      <th>0</th>\n",
       "      <td>120230801_345104</td>\n",
       "      <td>120230801</td>\n",
       "      <td>1</td>\n",
       "      <td>99457892</td>\n",
       "      <td>2023-08-01</td>\n",
       "      <td>22</td>\n",
       "      <td>2200</td>\n",
       "      <td>1040</td>\n",
       "      <td>345104</td>\n",
       "      <td>0</td>\n",
       "      <td>...</td>\n",
       "      <td>1</td>\n",
       "      <td>0</td>\n",
       "      <td>0.0</td>\n",
       "      <td>0</td>\n",
       "      <td>19</td>\n",
       "      <td>0.0</td>\n",
       "      <td>0</td>\n",
       "      <td>0</td>\n",
       "      <td>0</td>\n",
       "      <td>-2.133333</td>\n",
       "    </tr>\n",
       "    <tr>\n",
       "      <th>1</th>\n",
       "      <td>120230801_345105</td>\n",
       "      <td>120230801</td>\n",
       "      <td>1</td>\n",
       "      <td>99457895</td>\n",
       "      <td>2023-08-01</td>\n",
       "      <td>22</td>\n",
       "      <td>2200</td>\n",
       "      <td>1040</td>\n",
       "      <td>345105</td>\n",
       "      <td>0</td>\n",
       "      <td>...</td>\n",
       "      <td>1</td>\n",
       "      <td>0</td>\n",
       "      <td>0.0</td>\n",
       "      <td>0</td>\n",
       "      <td>51</td>\n",
       "      <td>0.0</td>\n",
       "      <td>0</td>\n",
       "      <td>0</td>\n",
       "      <td>0</td>\n",
       "      <td>-1.583333</td>\n",
       "    </tr>\n",
       "    <tr>\n",
       "      <th>2</th>\n",
       "      <td>120230801_345106</td>\n",
       "      <td>120230801</td>\n",
       "      <td>1</td>\n",
       "      <td>99457899</td>\n",
       "      <td>2023-08-01</td>\n",
       "      <td>22</td>\n",
       "      <td>2200</td>\n",
       "      <td>1040</td>\n",
       "      <td>345106</td>\n",
       "      <td>0</td>\n",
       "      <td>...</td>\n",
       "      <td>1</td>\n",
       "      <td>0</td>\n",
       "      <td>0.0</td>\n",
       "      <td>0</td>\n",
       "      <td>80</td>\n",
       "      <td>0.0</td>\n",
       "      <td>0</td>\n",
       "      <td>0</td>\n",
       "      <td>0</td>\n",
       "      <td>-1.716666</td>\n",
       "    </tr>\n",
       "    <tr>\n",
       "      <th>3</th>\n",
       "      <td>120230801_345107</td>\n",
       "      <td>120230801</td>\n",
       "      <td>1</td>\n",
       "      <td>99457902</td>\n",
       "      <td>2023-08-01</td>\n",
       "      <td>22</td>\n",
       "      <td>2200</td>\n",
       "      <td>1040</td>\n",
       "      <td>345107</td>\n",
       "      <td>0</td>\n",
       "      <td>...</td>\n",
       "      <td>0</td>\n",
       "      <td>0</td>\n",
       "      <td>0.0</td>\n",
       "      <td>0</td>\n",
       "      <td>112</td>\n",
       "      <td>0.0</td>\n",
       "      <td>0</td>\n",
       "      <td>0</td>\n",
       "      <td>0</td>\n",
       "      <td>-1.316666</td>\n",
       "    </tr>\n",
       "    <tr>\n",
       "      <th>4</th>\n",
       "      <td>120230801_345108</td>\n",
       "      <td>120230801</td>\n",
       "      <td>1</td>\n",
       "      <td>99457906</td>\n",
       "      <td>2023-08-01</td>\n",
       "      <td>22</td>\n",
       "      <td>2200</td>\n",
       "      <td>1040</td>\n",
       "      <td>345108</td>\n",
       "      <td>0</td>\n",
       "      <td>...</td>\n",
       "      <td>1</td>\n",
       "      <td>0</td>\n",
       "      <td>0.0</td>\n",
       "      <td>0</td>\n",
       "      <td>141</td>\n",
       "      <td>0.0</td>\n",
       "      <td>0</td>\n",
       "      <td>0</td>\n",
       "      <td>0</td>\n",
       "      <td>-1.516666</td>\n",
       "    </tr>\n",
       "  </tbody>\n",
       "</table>\n",
       "<p>5 rows × 35 columns</p>\n",
       "</div>"
      ],
      "text/plain": [
       "                 ID  CALENDAR_ID  SERVICE_ABBR  ADHERENCE_ID        DATE  \\\n",
       "0  120230801_345104    120230801             1      99457892  2023-08-01   \n",
       "1  120230801_345105    120230801             1      99457895  2023-08-01   \n",
       "2  120230801_345106    120230801             1      99457899  2023-08-01   \n",
       "3  120230801_345107    120230801             1      99457902  2023-08-01   \n",
       "4  120230801_345108    120230801             1      99457906  2023-08-01   \n",
       "\n",
       "   ROUTE_ABBR  BLOCK_ABBR  OPERATOR  TRIP_ID  OVERLOAD_ID  ...  \\\n",
       "0          22        2200      1040   345104            0  ...   \n",
       "1          22        2200      1040   345105            0  ...   \n",
       "2          22        2200      1040   345106            0  ...   \n",
       "3          22        2200      1040   345107            0  ...   \n",
       "4          22        2200      1040   345108            0  ...   \n",
       "\n",
       "  ADJUSTED_ONTIME_COUNT STOP_CANCELLED  PREV_SCHED_STOP_CANCELLED  IS_RELIEF  \\\n",
       "0                     1              0                        0.0          0   \n",
       "1                     1              0                        0.0          0   \n",
       "2                     1              0                        0.0          0   \n",
       "3                     0              0                        0.0          0   \n",
       "4                     1              0                        0.0          0   \n",
       "\n",
       "   BLOCK_STOP_ORDER  DWELL_IN_MINS NextDay_Scheduled NextDay_Actual_Arrival  \\\n",
       "0                19            0.0                 0                      0   \n",
       "1                51            0.0                 0                      0   \n",
       "2                80            0.0                 0                      0   \n",
       "3               112            0.0                 0                      0   \n",
       "4               141            0.0                 0                      0   \n",
       "\n",
       "  NextDay_Actual_Departure  STARTING_ADHERENCE  \n",
       "0                        0           -2.133333  \n",
       "1                        0           -1.583333  \n",
       "2                        0           -1.716666  \n",
       "3                        0           -1.316666  \n",
       "4                        0           -1.516666  \n",
       "\n",
       "[5 rows x 35 columns]"
      ]
     },
     "execution_count": 2,
     "metadata": {},
     "output_type": "execute_result"
    }
   ],
   "source": [
    "wego = pd.read_csv('data/wego_ml.csv')\n",
    "wego.head()"
   ]
  },
  {
   "cell_type": "code",
   "execution_count": 3,
   "id": "ec501a9e",
   "metadata": {},
   "outputs": [],
   "source": [
    "logreg = LogisticRegression()"
   ]
  },
  {
   "cell_type": "markdown",
   "id": "b15e5e0d",
   "metadata": {},
   "source": [
    "1. Create a new (target) variable, ON-TIME. We'll consider a trip to be on-time is it is no more than 6 minutes late (ADHERENCE >= -6) and is  no more than 1 minute early (ADHERENCE <= 1)."
   ]
  },
  {
   "cell_type": "code",
   "execution_count": 4,
   "id": "22df50a3",
   "metadata": {},
   "outputs": [
    {
     "data": {
      "text/html": [
       "<div>\n",
       "<style scoped>\n",
       "    .dataframe tbody tr th:only-of-type {\n",
       "        vertical-align: middle;\n",
       "    }\n",
       "\n",
       "    .dataframe tbody tr th {\n",
       "        vertical-align: top;\n",
       "    }\n",
       "\n",
       "    .dataframe thead th {\n",
       "        text-align: right;\n",
       "    }\n",
       "</style>\n",
       "<table border=\"1\" class=\"dataframe\">\n",
       "  <thead>\n",
       "    <tr style=\"text-align: right;\">\n",
       "      <th></th>\n",
       "      <th>ID</th>\n",
       "      <th>CALENDAR_ID</th>\n",
       "      <th>SERVICE_ABBR</th>\n",
       "      <th>ADHERENCE_ID</th>\n",
       "      <th>DATE</th>\n",
       "      <th>ROUTE_ABBR</th>\n",
       "      <th>BLOCK_ABBR</th>\n",
       "      <th>OPERATOR</th>\n",
       "      <th>TRIP_ID</th>\n",
       "      <th>OVERLOAD_ID</th>\n",
       "      <th>...</th>\n",
       "      <th>STOP_CANCELLED</th>\n",
       "      <th>PREV_SCHED_STOP_CANCELLED</th>\n",
       "      <th>IS_RELIEF</th>\n",
       "      <th>BLOCK_STOP_ORDER</th>\n",
       "      <th>DWELL_IN_MINS</th>\n",
       "      <th>NextDay_Scheduled</th>\n",
       "      <th>NextDay_Actual_Arrival</th>\n",
       "      <th>NextDay_Actual_Departure</th>\n",
       "      <th>STARTING_ADHERENCE</th>\n",
       "      <th>ON-TIME</th>\n",
       "    </tr>\n",
       "  </thead>\n",
       "  <tbody>\n",
       "    <tr>\n",
       "      <th>0</th>\n",
       "      <td>120230801_345104</td>\n",
       "      <td>120230801</td>\n",
       "      <td>1</td>\n",
       "      <td>99457892</td>\n",
       "      <td>2023-08-01</td>\n",
       "      <td>22</td>\n",
       "      <td>2200</td>\n",
       "      <td>1040</td>\n",
       "      <td>345104</td>\n",
       "      <td>0</td>\n",
       "      <td>...</td>\n",
       "      <td>0</td>\n",
       "      <td>0.0</td>\n",
       "      <td>0</td>\n",
       "      <td>19</td>\n",
       "      <td>0.0</td>\n",
       "      <td>0</td>\n",
       "      <td>0</td>\n",
       "      <td>0</td>\n",
       "      <td>-2.133333</td>\n",
       "      <td>True</td>\n",
       "    </tr>\n",
       "    <tr>\n",
       "      <th>1</th>\n",
       "      <td>120230801_345105</td>\n",
       "      <td>120230801</td>\n",
       "      <td>1</td>\n",
       "      <td>99457895</td>\n",
       "      <td>2023-08-01</td>\n",
       "      <td>22</td>\n",
       "      <td>2200</td>\n",
       "      <td>1040</td>\n",
       "      <td>345105</td>\n",
       "      <td>0</td>\n",
       "      <td>...</td>\n",
       "      <td>0</td>\n",
       "      <td>0.0</td>\n",
       "      <td>0</td>\n",
       "      <td>51</td>\n",
       "      <td>0.0</td>\n",
       "      <td>0</td>\n",
       "      <td>0</td>\n",
       "      <td>0</td>\n",
       "      <td>-1.583333</td>\n",
       "      <td>True</td>\n",
       "    </tr>\n",
       "    <tr>\n",
       "      <th>2</th>\n",
       "      <td>120230801_345106</td>\n",
       "      <td>120230801</td>\n",
       "      <td>1</td>\n",
       "      <td>99457899</td>\n",
       "      <td>2023-08-01</td>\n",
       "      <td>22</td>\n",
       "      <td>2200</td>\n",
       "      <td>1040</td>\n",
       "      <td>345106</td>\n",
       "      <td>0</td>\n",
       "      <td>...</td>\n",
       "      <td>0</td>\n",
       "      <td>0.0</td>\n",
       "      <td>0</td>\n",
       "      <td>80</td>\n",
       "      <td>0.0</td>\n",
       "      <td>0</td>\n",
       "      <td>0</td>\n",
       "      <td>0</td>\n",
       "      <td>-1.716666</td>\n",
       "      <td>True</td>\n",
       "    </tr>\n",
       "    <tr>\n",
       "      <th>3</th>\n",
       "      <td>120230801_345107</td>\n",
       "      <td>120230801</td>\n",
       "      <td>1</td>\n",
       "      <td>99457902</td>\n",
       "      <td>2023-08-01</td>\n",
       "      <td>22</td>\n",
       "      <td>2200</td>\n",
       "      <td>1040</td>\n",
       "      <td>345107</td>\n",
       "      <td>0</td>\n",
       "      <td>...</td>\n",
       "      <td>0</td>\n",
       "      <td>0.0</td>\n",
       "      <td>0</td>\n",
       "      <td>112</td>\n",
       "      <td>0.0</td>\n",
       "      <td>0</td>\n",
       "      <td>0</td>\n",
       "      <td>0</td>\n",
       "      <td>-1.316666</td>\n",
       "      <td>False</td>\n",
       "    </tr>\n",
       "    <tr>\n",
       "      <th>4</th>\n",
       "      <td>120230801_345108</td>\n",
       "      <td>120230801</td>\n",
       "      <td>1</td>\n",
       "      <td>99457906</td>\n",
       "      <td>2023-08-01</td>\n",
       "      <td>22</td>\n",
       "      <td>2200</td>\n",
       "      <td>1040</td>\n",
       "      <td>345108</td>\n",
       "      <td>0</td>\n",
       "      <td>...</td>\n",
       "      <td>0</td>\n",
       "      <td>0.0</td>\n",
       "      <td>0</td>\n",
       "      <td>141</td>\n",
       "      <td>0.0</td>\n",
       "      <td>0</td>\n",
       "      <td>0</td>\n",
       "      <td>0</td>\n",
       "      <td>-1.516666</td>\n",
       "      <td>True</td>\n",
       "    </tr>\n",
       "  </tbody>\n",
       "</table>\n",
       "<p>5 rows × 36 columns</p>\n",
       "</div>"
      ],
      "text/plain": [
       "                 ID  CALENDAR_ID  SERVICE_ABBR  ADHERENCE_ID        DATE  \\\n",
       "0  120230801_345104    120230801             1      99457892  2023-08-01   \n",
       "1  120230801_345105    120230801             1      99457895  2023-08-01   \n",
       "2  120230801_345106    120230801             1      99457899  2023-08-01   \n",
       "3  120230801_345107    120230801             1      99457902  2023-08-01   \n",
       "4  120230801_345108    120230801             1      99457906  2023-08-01   \n",
       "\n",
       "   ROUTE_ABBR  BLOCK_ABBR  OPERATOR  TRIP_ID  OVERLOAD_ID  ... STOP_CANCELLED  \\\n",
       "0          22        2200      1040   345104            0  ...              0   \n",
       "1          22        2200      1040   345105            0  ...              0   \n",
       "2          22        2200      1040   345106            0  ...              0   \n",
       "3          22        2200      1040   345107            0  ...              0   \n",
       "4          22        2200      1040   345108            0  ...              0   \n",
       "\n",
       "  PREV_SCHED_STOP_CANCELLED  IS_RELIEF  BLOCK_STOP_ORDER  DWELL_IN_MINS  \\\n",
       "0                       0.0          0                19            0.0   \n",
       "1                       0.0          0                51            0.0   \n",
       "2                       0.0          0                80            0.0   \n",
       "3                       0.0          0               112            0.0   \n",
       "4                       0.0          0               141            0.0   \n",
       "\n",
       "   NextDay_Scheduled NextDay_Actual_Arrival NextDay_Actual_Departure  \\\n",
       "0                  0                      0                        0   \n",
       "1                  0                      0                        0   \n",
       "2                  0                      0                        0   \n",
       "3                  0                      0                        0   \n",
       "4                  0                      0                        0   \n",
       "\n",
       "  STARTING_ADHERENCE  ON-TIME  \n",
       "0          -2.133333     True  \n",
       "1          -1.583333     True  \n",
       "2          -1.716666     True  \n",
       "3          -1.316666    False  \n",
       "4          -1.516666     True  \n",
       "\n",
       "[5 rows x 36 columns]"
      ]
     },
     "execution_count": 4,
     "metadata": {},
     "output_type": "execute_result"
    }
   ],
   "source": [
    "wego['ON-TIME'] = np.where((wego['ADHERENCE']<=1) & (wego['ADHERENCE']>=-6), True, False)\n",
    "wego.head()"
   ]
  },
  {
   "cell_type": "code",
   "execution_count": 5,
   "id": "78072c2d",
   "metadata": {},
   "outputs": [],
   "source": [
    "# conditions  = [ wego['ADHERENCE'] > 1, (wego['ADHERENCE'] <= 1) & (wego['ADHERENCE'] >= -6), wego['ADHERENCE'] <= -6]\n",
    "# choices     = [ \"Early\", 'On Time', 'Late' ]\n",
    "# wego['ON-TIME'] = np.select(conditions, choices, default='')\n",
    "\n",
    "# wego.head()"
   ]
  },
  {
   "cell_type": "markdown",
   "id": "8fda31c6",
   "metadata": {},
   "source": [
    "2. Fit a logistic regression model predicting the ADHERENCE using the ROUTE_ABBR and ROUTE_DIRECTION_NAME columns. How accurate is this model? How does it do in terms of precition and recall? What about ROC-AUC and calibration?"
   ]
  },
  {
   "cell_type": "code",
   "execution_count": 6,
   "id": "ef51116a",
   "metadata": {},
   "outputs": [],
   "source": [
    "predictorsq2 = ['ROUTE_ABBR', 'ROUTE_DIRECTION_NAME']\n",
    "categorical_predictorsq2 = ['ROUTE_ABBR', 'ROUTE_DIRECTION_NAME']\n",
    "\n",
    "Xq2 = wego[predictorsq2]\n",
    "Xq2 = pd.get_dummies(Xq2, columns = categorical_predictorsq2, drop_first= True)\n",
    "yq2 = wego['ON-TIME']"
   ]
  },
  {
   "cell_type": "code",
   "execution_count": 7,
   "id": "bb44f8c0",
   "metadata": {},
   "outputs": [],
   "source": [
    "X_trainq2, X_testq2, y_trainq2, y_testq2 = train_test_split(Xq2, yq2, random_state = 321)"
   ]
  },
  {
   "cell_type": "code",
   "execution_count": 8,
   "id": "91934524",
   "metadata": {},
   "outputs": [],
   "source": [
    "logregq2 = logreg.fit(X_trainq2, y_trainq2)\n",
    "y_predq2 = logregq2.predict(X_testq2)"
   ]
  },
  {
   "cell_type": "code",
   "execution_count": 9,
   "id": "2451dc76",
   "metadata": {},
   "outputs": [
    {
     "data": {
      "text/plain": [
       "array([0.56742728])"
      ]
     },
     "execution_count": 9,
     "metadata": {},
     "output_type": "execute_result"
    }
   ],
   "source": [
    "logregq2.intercept_"
   ]
  },
  {
   "cell_type": "code",
   "execution_count": 10,
   "id": "2b9b51fd",
   "metadata": {},
   "outputs": [
    {
     "data": {
      "text/plain": [
       "array([[ 0.15720158,  0.85099447,  0.67752229,  0.49006587, -0.0009801 ,\n",
       "        -0.55183018,  0.06320692,  0.59228707]])"
      ]
     },
     "execution_count": 10,
     "metadata": {},
     "output_type": "execute_result"
    }
   ],
   "source": [
    "logregq2.coef_"
   ]
  },
  {
   "cell_type": "code",
   "execution_count": 11,
   "id": "33bc3fca",
   "metadata": {},
   "outputs": [
    {
     "data": {
      "text/plain": [
       "array([ -3.60955196,  -0.6667814 ,  -0.83750349,  -1.15785921,\n",
       "       578.94998876,   1.02826432,  -8.97729641,  -0.95802747])"
      ]
     },
     "execution_count": 11,
     "metadata": {},
     "output_type": "execute_result"
    }
   ],
   "source": [
    "boundary = - logregq2.intercept_[0] / logregq2.coef_[0]\n",
    "boundary"
   ]
  },
  {
   "cell_type": "code",
   "execution_count": 12,
   "id": "d8173bed",
   "metadata": {},
   "outputs": [
    {
     "name": "stdout",
     "output_type": "stream",
     "text": [
      "The accuracy score using route_abbr and route_direction_name as logreg predictors is: 0.729\n"
     ]
    }
   ],
   "source": [
    "print(f'The accuracy score using route_abbr and route_direction_name as logreg predictors is: {accuracy_score(y_testq2, y_predq2):.3f}')"
   ]
  },
  {
   "cell_type": "code",
   "execution_count": 13,
   "id": "506af14b",
   "metadata": {},
   "outputs": [
    {
     "name": "stdout",
     "output_type": "stream",
     "text": [
      "              precision    recall  f1-score   support\n",
      "\n",
      "       False       0.00      0.00      0.00      4355\n",
      "        True       0.73      1.00      0.84     11729\n",
      "\n",
      "    accuracy                           0.73     16084\n",
      "   macro avg       0.36      0.50      0.42     16084\n",
      "weighted avg       0.53      0.73      0.62     16084\n",
      "\n"
     ]
    },
    {
     "name": "stderr",
     "output_type": "stream",
     "text": [
      "C:\\ProgramData\\anaconda3\\Lib\\site-packages\\sklearn\\metrics\\_classification.py:1469: UndefinedMetricWarning: Precision and F-score are ill-defined and being set to 0.0 in labels with no predicted samples. Use `zero_division` parameter to control this behavior.\n",
      "  _warn_prf(average, modifier, msg_start, len(result))\n",
      "C:\\ProgramData\\anaconda3\\Lib\\site-packages\\sklearn\\metrics\\_classification.py:1469: UndefinedMetricWarning: Precision and F-score are ill-defined and being set to 0.0 in labels with no predicted samples. Use `zero_division` parameter to control this behavior.\n",
      "  _warn_prf(average, modifier, msg_start, len(result))\n",
      "C:\\ProgramData\\anaconda3\\Lib\\site-packages\\sklearn\\metrics\\_classification.py:1469: UndefinedMetricWarning: Precision and F-score are ill-defined and being set to 0.0 in labels with no predicted samples. Use `zero_division` parameter to control this behavior.\n",
      "  _warn_prf(average, modifier, msg_start, len(result))\n"
     ]
    }
   ],
   "source": [
    "print(classification_report(y_testq2, logreg.predict(X_testq2)))"
   ]
  },
  {
   "cell_type": "code",
   "execution_count": 14,
   "id": "6c57b4b9",
   "metadata": {},
   "outputs": [
    {
     "name": "stdout",
     "output_type": "stream",
     "text": [
      "[[    0  4355]\n",
      " [    0 11729]]\n"
     ]
    }
   ],
   "source": [
    "print(confusion_matrix(y_testq2, logreg.predict(X_testq2)))"
   ]
  },
  {
   "cell_type": "code",
   "execution_count": 15,
   "id": "e1994dc1",
   "metadata": {},
   "outputs": [
    {
     "data": {
      "image/png": "[encoded data removed]",
      "text/plain": [
       "<Figure size 640x480 with 1 Axes>"
      ]
     },
     "metadata": {},
     "output_type": "display_data"
    }
   ],
   "source": [
    "fpr, tpr, thresholds = roc_curve(y_testq2, logreg.predict_proba(X_testq2)[:,1])\n",
    "plt.plot(fpr, tpr)\n",
    "plt.xlabel('False Positive Rate')\n",
    "plt.ylabel('True Positive Rate');"
   ]
  },
  {
   "cell_type": "code",
   "execution_count": 16,
   "id": "b0344878",
   "metadata": {},
   "outputs": [
    {
     "data": {
      "text/plain": [
       "0.6474782837323446"
      ]
     },
     "execution_count": 16,
     "metadata": {},
     "output_type": "execute_result"
    }
   ],
   "source": [
    "roc_auc_score(y_testq2, logreg.predict_proba(X_testq2)[:,1])"
   ]
  },
  {
   "cell_type": "code",
   "execution_count": 17,
   "id": "64ef40bd",
   "metadata": {},
   "outputs": [
    {
     "data": {
      "image/png": "[encoded data removed]",
      "text/plain": [
       "<Figure size 640x480 with 1 Axes>"
      ]
     },
     "metadata": {},
     "output_type": "display_data"
    }
   ],
   "source": [
    "CalibrationDisplay.from_estimator(logregq2, X_testq2, y_testq2)\n",
    "plt.tight_layout()\n",
    "#plt.savefig('images/calibration_curve.png');"
   ]
  },
  {
   "cell_type": "markdown",
   "id": "63bf37f4",
   "metadata": {},
   "source": [
    "3. Now, try using the ROUTE_ABBR, ROUTE_DIRECTION_NAME, and OPERATOR. Does this improve the model? Note: you may need to increase the max_iter parameter of your model in order for it to converge."
   ]
  },
  {
   "cell_type": "code",
   "execution_count": 18,
   "id": "2d4ba723",
   "metadata": {},
   "outputs": [],
   "source": [
    "predictorsq3 = ['ROUTE_ABBR', 'ROUTE_DIRECTION_NAME', 'OPERATOR']\n",
    "categorical_predictorsq3 = ['ROUTE_ABBR', 'ROUTE_DIRECTION_NAME', 'OPERATOR']\n",
    "operators = wego['OPERATOR'].value_counts()[lambda x: x> 50].index.tolist()\n",
    "\n",
    "Xq3 = wego[predictorsq3]\n",
    "Xq3.loc[~Xq3['OPERATOR'].isin(operators), 'OPERATOR'] = 999999\n",
    "Xq3 = pd.get_dummies(Xq3, columns = categorical_predictorsq3, drop_first= True)\n",
    "\n",
    "yq3 = wego['ON-TIME']"
   ]
  },
  {
   "cell_type": "code",
   "execution_count": 19,
   "id": "7ef103a5",
   "metadata": {},
   "outputs": [],
   "source": [
    "X_trainq3, X_testq3, y_trainq3, y_testq3 = train_test_split(Xq3, yq3, random_state = 321)"
   ]
  },
  {
   "cell_type": "code",
   "execution_count": 20,
   "id": "b41510f8",
   "metadata": {},
   "outputs": [
    {
     "name": "stderr",
     "output_type": "stream",
     "text": [
      "C:\\ProgramData\\anaconda3\\Lib\\site-packages\\sklearn\\linear_model\\_logistic.py:460: ConvergenceWarning: lbfgs failed to converge (status=1):\n",
      "STOP: TOTAL NO. of ITERATIONS REACHED LIMIT.\n",
      "\n",
      "Increase the number of iterations (max_iter) or scale the data as shown in:\n",
      "    https://scikit-learn.org/stable/modules/preprocessing.html\n",
      "Please also refer to the documentation for alternative solver options:\n",
      "    https://scikit-learn.org/stable/modules/linear_model.html#logistic-regression\n",
      "  n_iter_i = _check_optimize_result(\n"
     ]
    }
   ],
   "source": [
    "logregq3 = logreg.fit(X_trainq3, y_trainq3)\n",
    "y_predq3 = logregq3.predict(X_testq3)"
   ]
  },
  {
   "cell_type": "code",
   "execution_count": 21,
   "id": "95530552",
   "metadata": {},
   "outputs": [
    {
     "data": {
      "text/plain": [
       "array([0.64811687])"
      ]
     },
     "execution_count": 21,
     "metadata": {},
     "output_type": "execute_result"
    }
   ],
   "source": [
    "logregq3.intercept_"
   ]
  },
  {
   "cell_type": "code",
   "execution_count": 22,
   "id": "4adacbea",
   "metadata": {},
   "outputs": [
    {
     "data": {
      "text/plain": [
       "array([[ 2.00379061e-01,  8.20695393e-01,  6.09185600e-01,\n",
       "         4.51924743e-01,  1.15482615e-01, -5.50543557e-01,\n",
       "         1.44407129e-01,  6.23856714e-01,  6.96887962e-02,\n",
       "         7.72648169e-01, -5.34994637e-01,  5.96886809e-01,\n",
       "        -1.19125799e+00, -4.85999124e-01,  1.08536417e+00,\n",
       "         1.52568849e+00,  7.23311749e-02, -5.58431072e-02,\n",
       "         5.93868752e-01, -2.76397588e-01,  1.72352182e+00,\n",
       "         7.03637203e-02, -2.36344545e-01,  7.04146438e-01,\n",
       "         6.06559513e-01, -7.09727785e-01,  1.20143886e+00,\n",
       "        -8.85859377e-02, -2.93655427e-01, -7.30624338e-01,\n",
       "         4.02812417e-01,  9.39104450e-01,  9.72763428e-01,\n",
       "         2.46498703e-01,  1.35060776e-01,  2.09054105e-01,\n",
       "        -1.99430293e-01,  3.06947453e-01,  1.28510951e-01,\n",
       "        -7.27760149e-01, -4.11025545e-01,  1.17322707e+00,\n",
       "        -5.80755064e-01, -5.54517661e-01, -5.09064346e-02,\n",
       "        -1.05560293e-01, -1.10770055e+00,  6.01962595e-01,\n",
       "         1.62641614e-01,  3.48287533e-01, -1.34653018e+00,\n",
       "        -7.29681442e-01,  5.95728243e-01,  8.48418707e-02,\n",
       "         2.62061991e-01, -1.79130529e-01,  9.06320387e-02,\n",
       "         1.43927089e+00, -7.56366819e-01,  3.60623763e-01,\n",
       "         4.16352407e-01,  1.55712771e-02,  2.52867451e-01,\n",
       "         2.67581262e-01,  8.10751812e-01, -3.39215909e-02,\n",
       "         3.71194801e-01,  1.18218219e+00,  3.35798316e-01,\n",
       "        -8.33770446e-02, -9.06739648e-01,  1.97358529e+00,\n",
       "         8.84787168e-01,  7.66416286e-01, -9.91532654e-01,\n",
       "         9.92485370e-01,  4.65105681e-01, -6.46736656e-01,\n",
       "        -3.16354964e-02, -2.60340740e-01,  5.80696165e-01,\n",
       "         1.04317999e+00, -3.57070823e-01, -1.75391968e-02,\n",
       "         1.93772888e-01, -1.38988893e-01, -5.70120195e-01,\n",
       "        -2.40539141e-01,  3.10436526e-01, -6.68983076e-01,\n",
       "         2.12087891e+00,  2.32307981e-01,  8.31874152e-01,\n",
       "         1.37053925e-01,  5.50873372e-01,  5.34736627e-01,\n",
       "        -3.01655816e-01, -1.08673238e+00, -3.65415760e-01,\n",
       "        -4.90929037e-01,  5.44555427e-01,  4.48654581e-01,\n",
       "        -4.50572692e-01,  5.07922328e-01,  2.88800803e-01,\n",
       "        -5.76169653e-02,  8.28061526e-01, -2.69737005e-02,\n",
       "         8.64934333e-02, -1.60990569e+00, -8.64079771e-02,\n",
       "         7.64675130e-01,  1.54553779e+00,  6.09736066e-01,\n",
       "        -4.84461145e-01,  1.25889584e-02,  7.24063886e-01,\n",
       "        -1.96233863e-01, -2.30425658e-01, -1.02239450e+00,\n",
       "        -1.05135347e+00, -4.99365582e-02,  9.67434053e-01,\n",
       "         1.47552915e-01, -1.05596475e-01,  1.45602066e-01,\n",
       "        -2.39451255e-01, -6.08454515e-01,  5.61157670e-01,\n",
       "        -1.23763558e+00,  1.36335039e-01, -1.19015833e+00,\n",
       "        -9.84395094e-01, -3.65897872e-01, -1.24234881e-01,\n",
       "        -3.70393491e-01, -3.07413851e-01,  3.79643053e-01,\n",
       "         4.58931870e-02,  3.24909947e-02,  1.15107419e+00,\n",
       "         5.60336814e-01,  1.71021141e-01,  2.24882330e-01,\n",
       "         5.49774451e-02, -5.54535729e-01, -7.79574652e-01,\n",
       "        -6.28844682e-01, -3.93667052e-01, -1.65980247e+00,\n",
       "         9.17734568e-01,  7.34180753e-01,  6.52564046e-02,\n",
       "        -5.35434086e-01, -6.55285091e-01, -1.21824691e-01,\n",
       "         1.33617392e+00, -8.18196147e-01,  2.90714316e-01,\n",
       "        -7.72046685e-01, -3.52816857e-01, -1.16689346e-01,\n",
       "         9.50796263e-01,  8.98431966e-01, -3.96620236e-01,\n",
       "        -7.59784615e-01, -5.60308678e-01, -3.27812951e-01,\n",
       "        -3.86511931e-01, -1.66534179e-01,  3.00842452e-01,\n",
       "         9.74370509e-02, -4.36927840e-02,  1.30783740e-01,\n",
       "        -5.19312431e-01, -3.17207600e-01,  3.29062926e-01,\n",
       "        -2.85264733e-01, -3.11435607e-01, -9.74480927e-01,\n",
       "         1.47342320e-01,  4.73721987e-01, -6.74244857e-01,\n",
       "        -2.28325768e-01, -8.59544048e-01, -7.85146572e-01,\n",
       "         2.11454722e-01, -8.01679708e-01,  1.85705924e+00,\n",
       "        -1.14626463e+00, -3.37930375e-01,  2.40312090e+00,\n",
       "        -1.41457324e+00,  2.77211692e-01, -2.58140821e-01,\n",
       "        -8.16915532e-01,  1.79042827e-01,  1.05646653e+00,\n",
       "         1.14109550e+00, -6.32696196e-01, -5.21221306e-01,\n",
       "        -3.83374216e-01, -8.71022003e-01,  1.13893681e+00,\n",
       "        -5.99301736e-01,  3.99668223e-01,  5.99842516e-01,\n",
       "         5.87558648e-03, -5.64287346e-01, -1.33397497e+00,\n",
       "         7.40099544e-01, -3.37508128e-01, -6.10668056e-01,\n",
       "        -9.75307520e-01, -3.20516056e-02, -1.20792834e+00,\n",
       "        -8.12565465e-01, -2.20350102e-01, -1.30026922e-01,\n",
       "         4.84223042e-01,  7.93616115e-01, -5.57089605e-01,\n",
       "        -2.59608449e-01, -1.14989432e+00, -7.82808388e-01,\n",
       "        -2.36448545e-01,  3.87385124e-01, -4.04343325e-01,\n",
       "        -2.46024068e-01, -5.87139298e-01, -5.42936804e-02,\n",
       "        -1.29590079e-01, -8.80031529e-01,  2.83364706e-01,\n",
       "        -4.47621512e-01, -3.42071278e-01,  1.79204640e-02,\n",
       "        -3.92451293e-01, -4.38309132e-02,  3.94907856e-01,\n",
       "        -3.03115064e-01, -3.00549979e-02, -3.63152575e-01,\n",
       "        -1.02651261e-01, -1.06066745e+00,  4.63236517e-01,\n",
       "        -2.12978110e-01, -9.84802574e-04, -3.48593191e-02,\n",
       "        -6.67841015e-01,  9.38878149e-02, -3.49566452e-01,\n",
       "        -6.09611488e-03, -1.30665593e+00, -1.25880494e+00,\n",
       "        -1.60017410e+00, -6.66746246e-01,  3.60892832e-01,\n",
       "        -1.39131374e+00,  2.24903134e-01,  6.23086830e-01,\n",
       "        -1.83475105e+00, -2.60660623e-01, -1.01321861e-01,\n",
       "         1.75014428e-01, -5.75901607e-01,  2.61523829e-01,\n",
       "         2.54766230e-01, -6.21212926e-02, -8.38247056e-01,\n",
       "        -1.31094525e+00, -4.70021331e-01]])"
      ]
     },
     "execution_count": 22,
     "metadata": {},
     "output_type": "execute_result"
    }
   ],
   "source": [
    "logregq3.coef_"
   ]
  },
  {
   "cell_type": "code",
   "execution_count": 23,
   "id": "9cbf289f",
   "metadata": {},
   "outputs": [
    {
     "data": {
      "text/plain": [
       "array([-3.23445409e+00, -7.89716720e-01, -1.06390708e+00, -1.43412567e+00,\n",
       "       -5.61224625e+00,  1.17723088e+00, -4.48812242e+00, -1.03888739e+00,\n",
       "       -9.30015885e+00, -8.38825354e-01,  1.21144555e+00, -1.08582878e+00,\n",
       "        5.44060884e-01,  1.33357622e+00, -5.97142317e-01, -4.24802886e-01,\n",
       "       -8.96040850e+00,  1.16060317e+01, -1.09134699e+00,  2.34487167e+00,\n",
       "       -3.76042164e-01, -9.21095234e+00,  2.74225442e+00, -9.20429103e-01,\n",
       "       -1.06851325e+00,  9.13190787e-01, -5.39450569e-01,  7.31625009e+00,\n",
       "        2.20706588e+00,  8.87072659e-01, -1.60897938e+00, -6.90143545e-01,\n",
       "       -6.66263611e-01, -2.62929122e+00, -4.79870540e+00, -3.10023510e+00,\n",
       "        3.24984166e+00, -2.11149129e+00, -5.04328128e+00,  8.90563842e-01,\n",
       "        1.57682870e+00, -5.52422365e-01,  1.11599005e+00,  1.16879393e+00,\n",
       "        1.27315315e+01,  6.13977904e+00,  5.85101157e-01, -1.07667300e+00,\n",
       "       -3.98493877e+00, -1.86086728e+00,  4.81323688e-01,  8.88218936e-01,\n",
       "       -1.08794049e+00, -7.63911579e+00, -2.47314336e+00,  3.61812628e+00,\n",
       "       -7.15107906e+00, -4.50309168e-01,  8.56881685e-01, -1.79721067e+00,\n",
       "       -1.55665456e+00, -4.16225894e+01, -2.56306960e+00, -2.42213102e+00,\n",
       "       -7.99402314e-01,  1.91063230e+01, -1.74602896e+00, -5.48237723e-01,\n",
       "       -1.93007780e+00,  7.77332510e+00,  7.14777252e-01, -3.28395676e-01,\n",
       "       -7.32511612e-01, -8.45646009e-01,  6.53651568e-01, -6.53024109e-01,\n",
       "       -1.39348303e+00,  1.00213413e+00,  2.04870145e+01,  2.48949463e+00,\n",
       "       -1.11610325e+00, -6.21289593e-01,  1.81509334e+00,  3.69524832e+01,\n",
       "       -3.34472422e+00,  4.66308393e+00,  1.13680743e+00,  2.69443414e+00,\n",
       "       -2.08775972e+00,  9.68809073e-01, -3.05588815e-01, -2.78990361e+00,\n",
       "       -7.79104475e-01, -4.72891874e+00, -1.17652605e+00, -1.21203008e+00,\n",
       "        2.14853101e+00,  5.96390506e-01,  1.77364237e+00,  1.32018444e+00,\n",
       "       -1.19017614e+00, -1.44457875e+00,  1.43842911e+00, -1.27601572e+00,\n",
       "       -2.24416576e+00,  1.12487159e+01, -7.82691688e-01,  2.40277331e+01,\n",
       "       -7.49324948e+00,  4.02580648e-01,  7.50066019e+00, -8.47571535e-01,\n",
       "       -4.19347154e-01, -1.06294659e+00,  1.33780981e+00, -5.14829625e+01,\n",
       "       -8.95110068e-01,  3.30277793e+00,  2.81269404e+00,  6.33920539e-01,\n",
       "        6.16459536e-01,  1.29788055e+01, -6.69933906e-01, -4.39243693e+00,\n",
       "        6.13767527e+00, -4.45128898e+00,  2.70667562e+00,  1.06518541e+00,\n",
       "       -1.15496394e+00,  5.23673433e-01, -4.75385402e+00,  5.44563576e-01,\n",
       "        6.58391004e-01,  1.77130539e+00,  5.21686717e+00,  1.74980633e+00,\n",
       "        2.10828781e+00, -1.70717433e+00, -1.41222895e+01, -1.99475849e+01,\n",
       "       -5.63053957e-01, -1.15665589e+00, -3.78968864e+00, -2.88202668e+00,\n",
       "       -1.17887776e+01,  1.16875584e+00,  8.31372432e-01,  1.03064698e+00,\n",
       "        1.64635793e+00,  3.90478318e-01, -7.06213862e-01, -8.82775627e-01,\n",
       "       -9.93185079e+00,  1.21045128e+00,  9.89060919e-01,  5.32007813e+00,\n",
       "       -4.85054276e-01,  7.92128974e-01, -2.22939442e+00,  8.39478864e-01,\n",
       "        1.83697820e+00,  5.55420777e+00, -6.81656943e-01, -7.21386703e-01,\n",
       "        1.63409936e+00,  8.53027110e-01,  1.15671397e+00,  1.97709356e+00,\n",
       "        1.67683537e+00,  3.89179494e+00, -2.15433982e+00, -6.65164707e+00,\n",
       "        1.48334991e+01, -4.95563804e+00,  1.24802881e+00,  2.04319466e+00,\n",
       "       -1.96958339e+00,  2.27198387e+00,  2.08106222e+00,  6.65089338e-01,\n",
       "       -4.39871502e+00, -1.36813762e+00,  9.61248524e-01,  2.83856211e+00,\n",
       "        7.54024038e-01,  8.25472462e-01, -3.06503855e+00,  8.08448646e-01,\n",
       "       -3.49001722e-01,  5.65416446e-01,  1.91790061e+00, -2.69697989e-01,\n",
       "        4.58171309e-01, -2.33798535e+00,  2.51071051e+00,  7.93370732e-01,\n",
       "       -3.61989857e+00, -6.13476012e-01, -5.67977769e-01,  1.02437296e+00,\n",
       "        1.24345814e+00,  1.69055937e+00,  7.44087833e-01, -5.69054289e-01,\n",
       "        1.08145336e+00, -1.62163724e+00, -1.08047839e+00, -1.10306754e+02,\n",
       "        1.14855823e+00,  4.85853849e-01, -8.75715814e-01,  1.92030005e+00,\n",
       "        1.06132434e+00,  6.64525660e-01,  2.02210423e+01,  5.36552420e-01,\n",
       "        7.97618041e-01,  2.94130508e+00,  4.98448215e+00, -1.33846764e+00,\n",
       "       -8.16662945e-01,  1.16339790e+00,  2.49651688e+00,  5.63631684e-01,\n",
       "        8.27938081e-01,  2.74104826e+00, -1.67305566e+00,  1.60288753e+00,\n",
       "        2.63436370e+00,  1.10385538e+00,  1.19372433e+01,  5.00128468e+00,\n",
       "        7.36470061e-01, -2.28721806e+00,  1.44791271e+00,  1.89468370e+00,\n",
       "       -3.61662999e+01,  1.65145812e+00,  1.47867527e+01, -1.64118506e+00,\n",
       "        2.13818761e+00,  2.15643627e+01,  1.78469580e+00,  6.31377412e+00,\n",
       "        6.11046258e-01, -1.39910575e+00,  3.04311497e+00,  6.58118583e+02,\n",
       "        1.85923561e+01,  9.70465814e-01, -6.90309893e+00,  1.85405914e+00,\n",
       "        1.06316381e+02,  4.96011887e-01,  5.14866804e-01,  4.05028974e-01,\n",
       "        9.72059277e-01, -1.79587073e+00,  4.65830858e-01, -2.88176008e+00,\n",
       "       -1.04017104e+00,  3.53245130e-01,  2.48643951e+00,  6.39661437e+00,\n",
       "       -3.70321968e+00,  1.12539515e+00, -2.47823259e+00, -2.54396697e+00,\n",
       "        1.04330874e+01,  7.73181211e-01,  4.94388973e-01,  1.37890949e+00])"
      ]
     },
     "execution_count": 23,
     "metadata": {},
     "output_type": "execute_result"
    }
   ],
   "source": [
    "boundary = - logregq3.intercept_[0] / logregq3.coef_[0]\n",
    "boundary"
   ]
  },
  {
   "cell_type": "code",
   "execution_count": 24,
   "id": "8eab0963",
   "metadata": {},
   "outputs": [
    {
     "name": "stdout",
     "output_type": "stream",
     "text": [
      "The accuracy score using route_abbr, route_direction_name, and operator as logreg predictors is: 0.747\n"
     ]
    }
   ],
   "source": [
    "print(f'The accuracy score using route_abbr, route_direction_name, and operator as logreg predictors is: {accuracy_score(y_testq3, y_predq3):.3f}')"
   ]
  },
  {
   "cell_type": "code",
   "execution_count": 25,
   "id": "fc5f08e7",
   "metadata": {},
   "outputs": [
    {
     "name": "stdout",
     "output_type": "stream",
     "text": [
      "              precision    recall  f1-score   support\n",
      "\n",
      "       False       0.59      0.21      0.31      4355\n",
      "        True       0.76      0.95      0.85     11729\n",
      "\n",
      "    accuracy                           0.75     16084\n",
      "   macro avg       0.68      0.58      0.58     16084\n",
      "weighted avg       0.72      0.75      0.70     16084\n",
      "\n"
     ]
    }
   ],
   "source": [
    "print(classification_report(y_testq3, logreg.predict(X_testq3)))"
   ]
  },
  {
   "cell_type": "code",
   "execution_count": 26,
   "id": "ed0586c7",
   "metadata": {},
   "outputs": [
    {
     "name": "stdout",
     "output_type": "stream",
     "text": [
      "[[  928  3427]\n",
      " [  639 11090]]\n"
     ]
    }
   ],
   "source": [
    "print(confusion_matrix(y_testq3, logreg.predict(X_testq3)))"
   ]
  },
  {
   "cell_type": "code",
   "execution_count": 27,
   "id": "5c7f0388",
   "metadata": {},
   "outputs": [
    {
     "data": {
      "image/png": "[encoded data removed]",
      "text/plain": [
       "<Figure size 640x480 with 1 Axes>"
      ]
     },
     "metadata": {},
     "output_type": "display_data"
    }
   ],
   "source": [
    "fpr, tpr, thresholds = roc_curve(y_testq3, logreg.predict_proba(X_testq3)[:,1])\n",
    "plt.plot(fpr, tpr)\n",
    "plt.xlabel('False Positive Rate')\n",
    "plt.ylabel('True Positive Rate');"
   ]
  },
  {
   "cell_type": "code",
   "execution_count": 28,
   "id": "c30bf9c2",
   "metadata": {},
   "outputs": [
    {
     "data": {
      "text/plain": [
       "0.7167602669509539"
      ]
     },
     "execution_count": 28,
     "metadata": {},
     "output_type": "execute_result"
    }
   ],
   "source": [
    "roc_auc_score(y_testq3, logreg.predict_proba(X_testq3)[:,1])"
   ]
  },
  {
   "cell_type": "code",
   "execution_count": 29,
   "id": "900a28fb",
   "metadata": {},
   "outputs": [
    {
     "data": {
      "image/png": "[encoded data removed]",
      "text/plain": [
       "<Figure size 640x480 with 1 Axes>"
      ]
     },
     "metadata": {},
     "output_type": "display_data"
    }
   ],
   "source": [
    "CalibrationDisplay.from_estimator(logregq3, X_testq3, y_testq3)\n",
    "plt.tight_layout()\n",
    "#plt.savefig('images/calibration_curve.png');"
   ]
  },
  {
   "cell_type": "markdown",
   "id": "d0010823",
   "metadata": {},
   "source": [
    "4. Finally, the data you have been provided has an STARTING_ADHERENCE column, which contains the ADHERENCE at the beginning of the route. If you add this metric, does it improve the model?"
   ]
  },
  {
   "cell_type": "code",
   "execution_count": 30,
   "id": "2936cf7a",
   "metadata": {},
   "outputs": [],
   "source": [
    "predictorsq4 = ['ROUTE_ABBR', 'ROUTE_DIRECTION_NAME', 'OPERATOR', 'STARTING_ADHERENCE']\n",
    "categorical_predictorsq4 = ['ROUTE_ABBR', 'ROUTE_DIRECTION_NAME', 'OPERATOR']\n",
    "operators = wego['OPERATOR'].value_counts()[lambda x: x> 50].index.tolist()\n",
    "\n",
    "Xq4 = wego[predictorsq4]\n",
    "Xq4.loc[~Xq4['OPERATOR'].isin(operators), 'OPERATOR'] = 999999\n",
    "Xq4 = pd.get_dummies(Xq4, columns = categorical_predictorsq4, drop_first= True)\n",
    "yq4 = wego['ON-TIME']"
   ]
  },
  {
   "cell_type": "code",
   "execution_count": 31,
   "id": "8d29762b",
   "metadata": {},
   "outputs": [],
   "source": [
    "X_trainq4, X_testq4, y_trainq4, y_testq4 = train_test_split(Xq4, yq4, random_state = 321)"
   ]
  },
  {
   "cell_type": "code",
   "execution_count": 32,
   "id": "4f43ee1c",
   "metadata": {},
   "outputs": [
    {
     "name": "stderr",
     "output_type": "stream",
     "text": [
      "C:\\ProgramData\\anaconda3\\Lib\\site-packages\\sklearn\\linear_model\\_logistic.py:460: ConvergenceWarning: lbfgs failed to converge (status=1):\n",
      "STOP: TOTAL NO. of ITERATIONS REACHED LIMIT.\n",
      "\n",
      "Increase the number of iterations (max_iter) or scale the data as shown in:\n",
      "    https://scikit-learn.org/stable/modules/preprocessing.html\n",
      "Please also refer to the documentation for alternative solver options:\n",
      "    https://scikit-learn.org/stable/modules/linear_model.html#logistic-regression\n",
      "  n_iter_i = _check_optimize_result(\n"
     ]
    }
   ],
   "source": [
    "logregq4 = logreg.fit(X_trainq4, y_trainq4)\n",
    "y_predq4 = logregq4.predict(X_testq4)"
   ]
  },
  {
   "cell_type": "code",
   "execution_count": 33,
   "id": "3b93ed06",
   "metadata": {},
   "outputs": [
    {
     "data": {
      "text/plain": [
       "array([1.26176861])"
      ]
     },
     "execution_count": 33,
     "metadata": {},
     "output_type": "execute_result"
    }
   ],
   "source": [
    "logregq4.intercept_"
   ]
  },
  {
   "cell_type": "code",
   "execution_count": 34,
   "id": "5210d86c",
   "metadata": {},
   "outputs": [
    {
     "data": {
      "text/plain": [
       "array([[ 2.03978536e-01,  1.36792092e-01,  6.93395322e-01,\n",
       "         4.65636426e-01,  5.33621068e-01,  1.08915285e-01,\n",
       "        -5.14728559e-01,  5.88834169e-02,  4.81711959e-01,\n",
       "         3.51928822e-01,  4.76070743e-01, -3.63548829e-01,\n",
       "         3.51748883e-01, -8.37326054e-01, -4.91465564e-01,\n",
       "         1.09332237e+00,  1.50998739e+00,  9.40246659e-02,\n",
       "        -1.29849404e-01,  4.29313821e-01, -3.10079360e-01,\n",
       "         1.53090778e+00,  1.39006956e-01, -8.62991454e-03,\n",
       "         6.65194199e-01,  6.35069671e-01, -9.71631872e-01,\n",
       "         8.97399020e-01, -1.64950207e-01, -4.96922503e-01,\n",
       "        -5.77288932e-01,  2.72150916e-01,  9.98073066e-01,\n",
       "         6.99668698e-01,  4.03300807e-01,  1.75958671e-01,\n",
       "         1.34317404e-01, -1.83660347e-03,  5.44984082e-01,\n",
       "         1.53528461e-01, -4.29338068e-01, -4.10498124e-01,\n",
       "         9.30629687e-01, -2.31276223e-01, -3.93326515e-01,\n",
       "        -4.73370553e-02, -2.58277252e-01, -7.73182394e-01,\n",
       "         5.65529658e-01,  1.13112218e-01,  3.63933754e-01,\n",
       "        -1.39938357e+00, -5.58134502e-01,  3.28871593e-01,\n",
       "         2.43474852e-01,  3.08844613e-01, -9.35313377e-02,\n",
       "         3.00751066e-02,  1.37478707e+00, -6.42882326e-01,\n",
       "         5.75585288e-01,  2.58044796e-01, -1.37022720e-01,\n",
       "         1.19774981e-01, -7.87184742e-02,  8.81664914e-01,\n",
       "        -1.21639624e-01,  6.77821495e-01,  9.50317062e-01,\n",
       "         3.70543961e-01,  3.91150384e-03, -5.06553973e-01,\n",
       "         1.35418780e+00,  8.61388709e-01,  1.01715786e+00,\n",
       "        -1.03048681e+00,  7.88117000e-01,  6.90471651e-01,\n",
       "        -5.79635889e-01, -1.21976169e-01, -2.21741916e-01,\n",
       "         4.70837439e-01,  8.29418956e-01, -1.94715171e-01,\n",
       "         1.58441052e-01,  2.17968845e-01, -3.75773415e-01,\n",
       "        -1.04945211e+00, -9.88093754e-02,  1.50733171e-01,\n",
       "        -1.11469326e+00,  1.85347474e+00,  4.10488871e-01,\n",
       "         7.93482615e-01, -9.96456898e-03,  5.67935081e-01,\n",
       "         4.53103088e-01, -4.43501448e-01, -4.35177618e-01,\n",
       "        -2.38970885e-01, -2.21685535e-01,  9.38038345e-01,\n",
       "         6.27907231e-01, -2.09889933e-01,  3.24647749e-01,\n",
       "         2.41611439e-01, -6.42586400e-02,  7.98786891e-01,\n",
       "        -1.43591659e-01,  4.77520072e-01, -1.21782156e+00,\n",
       "        -1.41555812e-01,  4.39934188e-01,  1.35533738e+00,\n",
       "         6.67763095e-01, -3.62684319e-01,  2.41252629e-01,\n",
       "         6.45488325e-01,  3.20413156e-01, -1.55270917e-01,\n",
       "        -7.93739057e-01, -1.12627848e+00,  4.89563002e-02,\n",
       "         1.14656155e+00,  4.10549676e-01, -1.74530854e-01,\n",
       "         2.21444503e-01, -1.72442897e-01, -3.70098096e-01,\n",
       "         6.60082153e-01, -9.63381792e-01, -6.87836151e-02,\n",
       "        -9.39417857e-01, -1.12387176e+00, -1.46085052e-01,\n",
       "        -1.02739256e-01, -3.45848509e-01, -1.46978994e-01,\n",
       "         3.48563349e-01,  2.16980760e-01,  2.00911230e-01,\n",
       "         1.05641556e+00,  5.70343651e-01,  1.57004482e-01,\n",
       "         3.39985112e-01, -9.81407890e-02, -7.16775004e-01,\n",
       "        -7.79480655e-01, -5.89757892e-01, -1.47867513e-01,\n",
       "        -1.09456945e+00,  8.18346108e-01,  4.20690693e-01,\n",
       "         1.55536497e-01, -3.65985422e-01, -6.47879712e-01,\n",
       "        -1.51523871e-01,  1.39243535e+00, -3.80744823e-01,\n",
       "         1.30563657e-01, -5.64853639e-01,  4.88710195e-02,\n",
       "         2.50615960e-02,  8.75337667e-01,  7.85873638e-01,\n",
       "        -2.64944453e-01, -6.52940969e-01, -5.97557648e-02,\n",
       "        -1.47313821e-01, -4.83946009e-01,  1.04190287e-01,\n",
       "         1.72146542e-01,  3.22244461e-01, -5.55389045e-02,\n",
       "         3.18653891e-01, -4.30087769e-01, -2.53577141e-01,\n",
       "         3.06163677e-01, -4.76973856e-02, -2.67192406e-01,\n",
       "        -5.87284303e-01,  4.96988019e-02,  4.51289849e-01,\n",
       "        -4.39716132e-01, -1.10054288e-01, -4.49768317e-01,\n",
       "        -1.14221644e+00,  5.48753135e-01, -1.10895659e+00,\n",
       "         1.23940356e+00, -1.15894688e+00,  5.63608426e-02,\n",
       "         2.00355132e+00, -1.19515232e+00,  9.86370246e-02,\n",
       "        -2.11380945e-02, -9.78827568e-01,  3.98887765e-01,\n",
       "         7.84689426e-01,  1.14198092e+00, -5.59565945e-01,\n",
       "        -6.20442003e-01, -3.21788393e-01, -8.88189362e-01,\n",
       "         8.81055996e-01, -6.38543662e-01,  4.20149437e-01,\n",
       "         6.32914003e-01, -4.01337744e-01, -3.78736841e-01,\n",
       "        -1.20314902e+00,  5.51136947e-01, -3.49698081e-01,\n",
       "        -4.98281339e-01, -7.88317586e-01, -1.45261901e-01,\n",
       "        -1.21101928e+00, -7.55473185e-01, -1.25242880e-01,\n",
       "        -6.36524692e-02,  3.88435169e-01,  7.32684049e-01,\n",
       "        -2.63228034e-01, -1.46267597e-01, -7.21776942e-01,\n",
       "        -5.33955642e-01, -1.23051037e-01,  2.22903102e-01,\n",
       "        -2.81796204e-01, -9.65510967e-02, -4.24080426e-01,\n",
       "         7.64877148e-02,  1.35765053e-02, -8.40205584e-01,\n",
       "         3.03933163e-01, -2.58757490e-01, -3.19081748e-01,\n",
       "        -5.79283636e-02, -3.49338228e-01, -2.22434249e-01,\n",
       "         7.14629020e-01, -3.25730757e-01,  1.58516129e-01,\n",
       "        -2.78523474e-01, -1.66399200e-01, -1.05824757e+00,\n",
       "         5.52307414e-01, -3.55322850e-01, -1.76213832e-01,\n",
       "         2.32637353e-01, -4.19599547e-01,  7.22835806e-02,\n",
       "        -2.34636846e-01,  4.65562545e-02, -1.02278793e+00,\n",
       "        -1.04132204e+00, -1.39335224e+00, -6.95640429e-01,\n",
       "         5.44402191e-01, -6.35487585e-01,  2.18977010e-01,\n",
       "         7.06055175e-01, -1.45276697e+00, -3.51721978e-01,\n",
       "        -7.63502001e-02,  1.75487841e-01, -4.56691086e-01,\n",
       "         2.10658511e-01,  1.74297121e-01,  2.20831515e-01,\n",
       "        -6.72553403e-01, -1.64236008e+00, -3.75611213e-01]])"
      ]
     },
     "execution_count": 34,
     "metadata": {},
     "output_type": "execute_result"
    }
   ],
   "source": [
    "logregq4.coef_"
   ]
  },
  {
   "cell_type": "code",
   "execution_count": 35,
   "id": "e33e3579",
   "metadata": {},
   "outputs": [
    {
     "data": {
      "text/plain": [
       "array([-6.18579109e+00, -9.22398797e+00, -1.81969588e+00, -2.70977214e+00,\n",
       "       -2.36454047e+00, -1.15848626e+01,  2.45132816e+00, -2.14282505e+01,\n",
       "       -2.61934251e+00, -3.58529490e+00, -2.65038050e+00,  3.47069914e+00,\n",
       "       -3.58712898e+00,  1.50690236e+00,  2.56735915e+00, -1.15406823e+00,\n",
       "       -8.35615332e-01, -1.34195490e+01,  9.71716909e+00, -2.93903562e+00,\n",
       "        4.06917961e+00, -8.24196353e-01, -9.07701777e+00,  1.46208703e+02,\n",
       "       -1.89684248e+00, -1.98681919e+00,  1.29860768e+00, -1.40602851e+00,\n",
       "        7.64939091e+00,  2.53916577e+00,  2.18567955e+00, -4.63628280e+00,\n",
       "       -1.26420465e+00, -1.80338011e+00, -3.12860423e+00, -7.17082372e+00,\n",
       "       -9.39393239e+00,  6.87011993e+02, -2.31523938e+00, -8.21846716e+00,\n",
       "        2.93886964e+00,  3.07375001e+00, -1.35582244e+00,  5.45567804e+00,\n",
       "        3.20794191e+00,  2.66549874e+01,  4.88532614e+00,  1.63191586e+00,\n",
       "       -2.23112722e+00, -1.11550161e+01, -3.46702826e+00,  9.01660301e-01,\n",
       "        2.26068915e+00, -3.83666038e+00, -5.18233650e+00, -4.08544802e+00,\n",
       "        1.34903300e+01, -4.19539198e+01, -9.17792029e-01,  1.96267429e+00,\n",
       "       -2.19214882e+00, -4.88972702e+00,  9.20846276e+00, -1.05344923e+01,\n",
       "        1.60288754e+01, -1.43112036e+00,  1.03730065e+01, -1.86150575e+00,\n",
       "       -1.32773436e+00, -3.40517926e+00, -3.22578901e+02,  2.49088681e+00,\n",
       "       -9.31753048e-01, -1.46480747e+00, -1.24048455e+00,  1.22443936e+00,\n",
       "       -1.60099149e+00, -1.82740104e+00,  2.17682969e+00,  1.03443863e+01,\n",
       "        5.69025755e+00, -2.67983917e+00, -1.52126811e+00,  6.48007347e+00,\n",
       "       -7.96364704e+00, -5.78875669e+00,  3.35779105e+00,  1.20231175e+00,\n",
       "        1.27697256e+01, -8.37087549e+00,  1.13194245e+00, -6.80758463e-01,\n",
       "       -3.07381930e+00, -1.59016541e+00,  1.26625508e+02, -2.22167754e+00,\n",
       "       -2.78472746e+00,  2.84501576e+00,  2.89943361e+00,  5.28000977e+00,\n",
       "        5.69170474e+00, -1.34511411e+00, -2.00948253e+00,  6.01157279e+00,\n",
       "       -3.88657742e+00, -5.22230495e+00,  1.96357814e+01, -1.57960606e+00,\n",
       "        8.78719988e+00, -2.64233628e+00,  1.03608661e+00,  8.91357684e+00,\n",
       "       -2.86808492e+00, -9.30962751e-01, -1.88954529e+00,  3.47897206e+00,\n",
       "       -5.23007197e+00, -1.95475048e+00, -3.93794259e+00,  8.12623921e+00,\n",
       "        1.58965166e+00,  1.12029896e+00, -2.57733653e+01, -1.10048049e+00,\n",
       "       -3.07336404e+00,  7.22948742e+00, -5.69789991e+00,  7.31702281e+00,\n",
       "        3.40928155e+00, -1.91153269e+00,  1.30972852e+00,  1.83440287e+01,\n",
       "        1.34313884e+00,  1.12269803e+00,  8.63721917e+00,  1.22812706e+01,\n",
       "        3.64832746e+00,  8.58468667e+00, -3.61991189e+00, -5.81511748e+00,\n",
       "       -6.28022939e+00, -1.19438662e+00, -2.21229536e+00, -8.03651331e+00,\n",
       "       -3.71124666e+00,  1.28567197e+01,  1.76034126e+00,  1.61872986e+00,\n",
       "        2.13946880e+00,  8.53310229e+00,  1.15275337e+00, -1.54185203e+00,\n",
       "       -2.99927865e+00, -8.11236356e+00,  3.44759254e+00,  1.94753530e+00,\n",
       "        8.32719359e+00, -9.06159565e-01,  3.31394818e+00, -9.66401098e+00,\n",
       "        2.23379744e+00, -2.58183403e+01, -5.03466982e+01, -1.44146500e+00,\n",
       "       -1.60556170e+00,  4.76238924e+00,  1.93243903e+00,  2.11154290e+01,\n",
       "        8.56517467e+00,  2.60725079e+00, -1.21102327e+01, -7.32961927e+00,\n",
       "       -3.91556338e+00,  2.27186442e+01, -3.95968368e+00,  2.93374679e+00,\n",
       "        4.97587679e+00, -4.12122242e+00,  2.64536221e+01,  4.72232214e+00,\n",
       "        2.14848005e+00, -2.53883104e+01, -2.79591623e+00,  2.86950721e+00,\n",
       "        1.14649654e+01,  2.80537460e+00,  1.10466682e+00, -2.29933741e+00,\n",
       "        1.13779802e+00, -1.01804501e+00,  1.08871997e+00, -2.23873270e+01,\n",
       "       -6.29766055e-01,  1.05573874e+00, -1.27920385e+01,  5.96916912e+01,\n",
       "        1.28906117e+00, -3.16321713e+00, -1.60798473e+00, -1.10489465e+00,\n",
       "        2.25490601e+00,  2.03366085e+00,  3.92111287e+00,  1.42060766e+00,\n",
       "       -1.43210944e+00,  1.97600992e+00, -3.00314246e+00, -1.99358618e+00,\n",
       "        3.14390717e+00,  3.33151802e+00,  1.04872180e+00, -2.28939217e+00,\n",
       "        3.60816567e+00,  2.53224135e+00,  1.60058412e+00,  8.68616344e+00,\n",
       "        1.04190630e+00,  1.67016995e+00,  1.00745736e+01,  1.98227756e+01,\n",
       "       -3.24833772e+00, -1.72211830e+00,  4.79344313e+00,  8.62643972e+00,\n",
       "        1.74814203e+00,  2.36305886e+00,  1.02540266e+01, -5.66061486e+00,\n",
       "        4.47759265e+00,  1.30684027e+01,  2.97530500e+00, -1.64963565e+01,\n",
       "       -9.29376586e+01,  1.50173795e+00, -4.15146738e+00,  4.87625928e+00,\n",
       "        3.95437414e+00,  2.17815338e+01,  3.61188244e+00,  5.67254645e+00,\n",
       "       -1.76562745e+00,  3.87365511e+00, -7.95987526e+00,  4.53020563e+00,\n",
       "        7.58278051e+00,  1.19231893e+00, -2.28454042e+00,  3.55104832e+00,\n",
       "        7.16044024e+00, -5.42375759e+00,  3.00707811e+00, -1.74558122e+01,\n",
       "        5.37753824e+00, -2.71020215e+01,  1.23365614e+00,  1.21169875e+00,\n",
       "        9.05563273e-01,  1.81382300e+00, -2.31771406e+00,  1.98551261e+00,\n",
       "       -5.76210540e+00, -1.78706800e+00,  8.68527878e-01,  3.58740337e+00,\n",
       "        1.65260682e+01, -7.19006289e+00,  2.76284922e+00, -5.98963985e+00,\n",
       "       -7.23918218e+00, -5.71371623e+00,  1.87608688e+00,  7.68265513e-01,\n",
       "        3.35924107e+00])"
      ]
     },
     "execution_count": 35,
     "metadata": {},
     "output_type": "execute_result"
    }
   ],
   "source": [
    "boundary = - logregq4.intercept_[0] / logregq4.coef_[0]\n",
    "boundary"
   ]
  },
  {
   "cell_type": "code",
   "execution_count": 36,
   "id": "0ed6925a",
   "metadata": {},
   "outputs": [
    {
     "name": "stdout",
     "output_type": "stream",
     "text": [
      "The accuracy score using route_abbr, route_direction_name, operator, and starting adherence as logreg predictors is: 0.782\n"
     ]
    }
   ],
   "source": [
    "print(f'The accuracy score using route_abbr, route_direction_name, operator, and starting adherence as logreg predictors is: {accuracy_score(y_testq4, y_predq4):.3f}')"
   ]
  },
  {
   "cell_type": "code",
   "execution_count": 37,
   "id": "1c03b67f",
   "metadata": {},
   "outputs": [
    {
     "name": "stdout",
     "output_type": "stream",
     "text": [
      "              precision    recall  f1-score   support\n",
      "\n",
      "       False       0.72      0.32      0.44      4355\n",
      "        True       0.79      0.95      0.86     11729\n",
      "\n",
      "    accuracy                           0.78     16084\n",
      "   macro avg       0.76      0.64      0.65     16084\n",
      "weighted avg       0.77      0.78      0.75     16084\n",
      "\n"
     ]
    }
   ],
   "source": [
    "print(classification_report(y_testq4, logreg.predict(X_testq4)))"
   ]
  },
  {
   "cell_type": "code",
   "execution_count": 38,
   "id": "d3391c8c",
   "metadata": {},
   "outputs": [
    {
     "name": "stdout",
     "output_type": "stream",
     "text": [
      "[[ 1396  2959]\n",
      " [  543 11186]]\n"
     ]
    }
   ],
   "source": [
    "print(confusion_matrix(y_testq4, logreg.predict(X_testq4)))"
   ]
  },
  {
   "cell_type": "code",
   "execution_count": 39,
   "id": "7fd2c6ba",
   "metadata": {},
   "outputs": [
    {
     "data": {
      "image/png": "[encoded data removed]",
      "text/plain": [
       "<Figure size 640x480 with 1 Axes>"
      ]
     },
     "metadata": {},
     "output_type": "display_data"
    }
   ],
   "source": [
    "fpr, tpr, thresholds = roc_curve(y_testq4, logreg.predict_proba(X_testq4)[:,1])\n",
    "plt.plot(fpr, tpr)\n",
    "plt.xlabel('False Positive Rate')\n",
    "plt.ylabel('True Positive Rate');"
   ]
  },
  {
   "cell_type": "code",
   "execution_count": 40,
   "id": "ec5aec62",
   "metadata": {},
   "outputs": [
    {
     "data": {
      "text/plain": [
       "0.7509769469513337"
      ]
     },
     "execution_count": 40,
     "metadata": {},
     "output_type": "execute_result"
    }
   ],
   "source": [
    "roc_auc_score(y_testq4, logreg.predict_proba(X_testq4)[:,1])"
   ]
  },
  {
   "cell_type": "code",
   "execution_count": 41,
   "id": "36ecf1bb",
   "metadata": {},
   "outputs": [
    {
     "data": {
      "image/png": "[encoded data removed]",
      "text/plain": [
       "<Figure size 640x480 with 1 Axes>"
      ]
     },
     "metadata": {},
     "output_type": "display_data"
    }
   ],
   "source": [
    "CalibrationDisplay.from_estimator(logregq4, X_testq4, y_testq4)\n",
    "plt.tight_layout()\n",
    "#plt.savefig('images/calibration_curve.png');"
   ]
  },
  {
   "cell_type": "code",
   "execution_count": null,
   "id": "4ef45bae",
   "metadata": {},
   "outputs": [],
   "source": []
  }
 ],
 "metadata": {
  "kernelspec": {
   "display_name": "Python 3 (ipykernel)",
   "language": "python",
   "name": "python3"
  },
  "language_info": {
   "codemirror_mode": {
    "name": "ipython",
    "version": 3
   },
   "file_extension": ".py",
   "mimetype": "text/x-python",
   "name": "python",
   "nbconvert_exporter": "python",
   "pygments_lexer": "ipython3",
   "version": "3.11.4"
  }
 },
 "nbformat": 4,
 "nbformat_minor": 5
}
