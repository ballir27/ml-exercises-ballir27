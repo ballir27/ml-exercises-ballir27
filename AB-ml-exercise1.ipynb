{
 "cells": [
  {
   "cell_type": "code",
   "execution_count": 1,
   "id": "102e882d",
   "metadata": {},
   "outputs": [],
   "source": [
    "import pandas as pd\n",
    "import numpy as np\n",
    "import matplotlib.pyplot as plt\n",
    "import matplotlib as mpl\n",
    "\n",
    "from sklearn.linear_model import LinearRegression\n",
    "from sklearn.model_selection import train_test_split\n",
    "from sklearn.metrics import mean_squared_error, mean_absolute_error, r2_score \n",
    "from sklearn.feature_selection import VarianceThreshold\n",
    "from sklearn.pipeline import Pipeline"
   ]
  },
  {
   "cell_type": "code",
   "execution_count": 2,
   "id": "2ac3f3fd",
   "metadata": {},
   "outputs": [],
   "source": [
    "wego = pd.read_csv('data/wego_ml.csv')"
   ]
  },
  {
   "cell_type": "code",
   "execution_count": 3,
   "id": "ee176df8",
   "metadata": {},
   "outputs": [],
   "source": [
    "linreg = LinearRegression()\n",
    "selector = VarianceThreshold(.001)"
   ]
  },
  {
   "cell_type": "markdown",
   "id": "097a4870",
   "metadata": {},
   "source": [
    "1. Fit a linear regression model predicting the ADHERENCE using the ROUTE_ABBR and ROUTE_DIRECTION_NAME columns. Measure the performance of the model using the R^2 and mean absolute error metrics. Interpret the meaning of each metric."
   ]
  },
  {
   "cell_type": "code",
   "execution_count": 4,
   "id": "1e2a77d5",
   "metadata": {},
   "outputs": [],
   "source": [
    "predictorsq1 = ['ROUTE_ABBR', 'ROUTE_DIRECTION_NAME']\n",
    "categorical_predictorsq1 = ['ROUTE_ABBR', 'ROUTE_DIRECTION_NAME']\n",
    "\n",
    "Xq1 = wego[predictorsq1]\n",
    "Xq1 = pd.get_dummies(Xq1, columns = categorical_predictorsq1, drop_first= True)\n",
    "yq1 = wego['ADHERENCE']"
   ]
  },
  {
   "cell_type": "code",
   "execution_count": 5,
   "id": "0118cd74",
   "metadata": {},
   "outputs": [],
   "source": [
    "X_trainq1, X_testq1, y_trainq1, y_testq1 = train_test_split(Xq1, yq1, random_state = 321)"
   ]
  },
  {
   "cell_type": "code",
   "execution_count": 6,
   "id": "109ffa54",
   "metadata": {},
   "outputs": [],
   "source": [
    "linregq1 = linreg.fit(X_trainq1, y_trainq1)\n",
    "y_predq1 = linregq1.predict(X_testq1)"
   ]
  },
  {
   "cell_type": "code",
   "execution_count": 7,
   "id": "7cf58111",
   "metadata": {},
   "outputs": [
    {
     "name": "stdout",
     "output_type": "stream",
     "text": [
      "MSE with route_abbr and route_direction_name: 29.781969782409398\n",
      "MAE with route_abbr and route_direction_name: 3.47130898325546\n",
      "R^2 with route_abbr and route_direction_name: 0.08768878523151136\n"
     ]
    }
   ],
   "source": [
    "print(f'MSE with route_abbr and route_direction_name: {mean_squared_error(y_testq1, y_predq1)}')\n",
    "print(f'MAE with route_abbr and route_direction_name: {mean_absolute_error(y_testq1, y_predq1)}')\n",
    "print(f'R^2 with route_abbr and route_direction_name: {r2_score(y_testq1, y_predq1)}')"
   ]
  },
  {
   "cell_type": "markdown",
   "id": "50fdee3c",
   "metadata": {},
   "source": [
    "2. Now, try using the ROUTE_ABBR, ROUTE_DIRECTION_NAME, and OPERATOR. Does this improve the model?\n",
    "\n",
    "Warning: Your model may perform very poorly once you add the OPERATOR. If so, this is likely caused because some operators have very few observations. One option to correct this is to assign an \"Other\" (or -999999) value to operators with few observations."
   ]
  },
  {
   "cell_type": "code",
   "execution_count": 20,
   "id": "e091e9a4",
   "metadata": {},
   "outputs": [],
   "source": [
    "predictorsq2 = ['ROUTE_ABBR', 'ROUTE_DIRECTION_NAME', 'OPERATOR']\n",
    "categorical_predictorsq2 = ['ROUTE_ABBR', 'ROUTE_DIRECTION_NAME', 'OPERATOR']\n",
    "operators = wego['OPERATOR'].value_counts()[lambda x: x> 50].index.tolist()\n",
    "\n",
    "Xq2 = wego[predictorsq2]\n",
    "Xq2.loc[~Xq2['OPERATOR'].isin(operators), 'OPERATOR'] = 999999\n",
    "Xq2 = pd.get_dummies(Xq2, columns = categorical_predictorsq2, drop_first= True)\n",
    "\n",
    "yq2 = wego['ADHERENCE']"
   ]
  },
  {
   "cell_type": "code",
   "execution_count": 21,
   "id": "d4d65683",
   "metadata": {},
   "outputs": [],
   "source": [
    "X_trainq2, X_testq2, y_trainq2, y_testq2 = train_test_split(Xq2, yq2, random_state = 321)"
   ]
  },
  {
   "cell_type": "code",
   "execution_count": 22,
   "id": "7febbd20",
   "metadata": {},
   "outputs": [],
   "source": [
    "linregq2 = linreg.fit(X_trainq2, y_trainq2)\n",
    "y_predq2 = linregq2.predict(X_testq2)"
   ]
  },
  {
   "cell_type": "code",
   "execution_count": 23,
   "id": "03b7aa1d",
   "metadata": {},
   "outputs": [
    {
     "name": "stdout",
     "output_type": "stream",
     "text": [
      "MSE with route_abbr and route_direction_name: 26.623028069959926\n",
      "MAE with route_abbr and route_direction_name: 3.192851104437311\n",
      "R^2 with route_abbr and route_direction_name: 0.18445666096717983\n"
     ]
    }
   ],
   "source": [
    "print(f'MSE with route_abbr and route_direction_name: {mean_squared_error(y_testq2, y_predq2)}')\n",
    "print(f'MAE with route_abbr and route_direction_name: {mean_absolute_error(y_testq2, y_predq2)}')\n",
    "print(f'R^2 with route_abbr and route_direction_name: {r2_score(y_testq2, y_predq2)}')"
   ]
  },
  {
   "cell_type": "markdown",
   "id": "5f1a6979",
   "metadata": {},
   "source": [
    "3. Finally, the data you have been provided has an STARTING_ADHERENCE column, which contains the ADHERENCE at the beginning of the route. If you add this metric, does it improve the model? Is this of any practical use?"
   ]
  },
  {
   "cell_type": "code",
   "execution_count": 24,
   "id": "6420b180",
   "metadata": {},
   "outputs": [],
   "source": [
    "predictorsq3 = ['ROUTE_ABBR', 'ROUTE_DIRECTION_NAME', 'OPERATOR', 'STARTING_ADHERENCE']\n",
    "categorical_predictorsq3 = ['ROUTE_ABBR', 'ROUTE_DIRECTION_NAME', 'OPERATOR']\n",
    "operators = wego['OPERATOR'].value_counts()[lambda x: x> 50].index.tolist()\n",
    "\n",
    "Xq3 = wego[predictorsq3]\n",
    "Xq3.loc[~Xq3['OPERATOR'].isin(operators), 'OPERATOR'] = 999999\n",
    "Xq3 = pd.get_dummies(Xq3, columns = categorical_predictorsq3, drop_first= True)\n",
    "yq3 = wego['ADHERENCE']"
   ]
  },
  {
   "cell_type": "code",
   "execution_count": 25,
   "id": "4d5db42d",
   "metadata": {},
   "outputs": [],
   "source": [
    "X_trainq3, X_testq3, y_trainq3, y_testq3 = train_test_split(Xq3, yq3, random_state = 321)"
   ]
  },
  {
   "cell_type": "code",
   "execution_count": 26,
   "id": "4aef4bff",
   "metadata": {},
   "outputs": [],
   "source": [
    "linregq3 = linreg.fit(X_trainq3, y_trainq3)\n",
    "y_predq3 = linregq3.predict(X_testq3)"
   ]
  },
  {
   "cell_type": "code",
   "execution_count": 27,
   "id": "cfb5ed0a",
   "metadata": {},
   "outputs": [
    {
     "name": "stdout",
     "output_type": "stream",
     "text": [
      "MSE with route_abbr and route_direction_name: 17.573309428241508\n",
      "MAE with route_abbr and route_direction_name: 2.7557565402756365\n",
      "R^2 with route_abbr and route_direction_name: 0.4616767329657633\n"
     ]
    }
   ],
   "source": [
    "print(f'MSE with route_abbr and route_direction_name: {mean_squared_error(y_testq3, y_predq3)}')\n",
    "print(f'MAE with route_abbr and route_direction_name: {mean_absolute_error(y_testq3, y_predq3)}')\n",
    "print(f'R^2 with route_abbr and route_direction_name: {r2_score(y_testq3, y_predq3)}')"
   ]
  },
  {
   "cell_type": "code",
   "execution_count": 28,
   "id": "c432e716",
   "metadata": {},
   "outputs": [
    {
     "data": {
      "text/plain": [
       "array([ 7.50248390e-01, -2.27304615e-01,  7.79277950e-01,  9.26312558e-01,\n",
       "        1.00444363e+00,  3.41660721e-02, -1.91353622e+00,  5.40040012e-02,\n",
       "        1.30333832e+00,  8.90592322e-01,  1.59114063e+00, -1.53017547e+00,\n",
       "        8.59115315e-01, -1.05509893e+00, -9.36576094e-01,  1.30591984e+00,\n",
       "        3.50968966e-01,  3.88742814e-01, -1.35475117e-01,  7.83673517e-02,\n",
       "       -8.82693138e-02,  1.61392971e+00,  7.55197259e-01,  1.51204312e+00,\n",
       "        1.08025328e+00,  1.87887049e+00,  2.46627280e+00,  2.11389690e+00,\n",
       "        1.89159093e+00,  1.63711273e+00,  9.73228068e-01,  1.39860941e+00,\n",
       "        1.69390296e+00,  4.17419929e-01,  2.43495754e+00,  3.32772044e+00,\n",
       "        2.49233045e-01,  1.07902482e+00,  1.60613121e+00,  6.25864760e-01,\n",
       "       -1.34891837e-01,  2.51649988e-01,  2.98201360e+00,  1.27532308e-01,\n",
       "       -1.76895055e-01,  5.24664468e-01, -2.21638368e-01, -1.03538705e+00,\n",
       "        1.02297303e+00,  8.29986645e-01,  2.58702291e+00, -2.32281079e+00,\n",
       "        1.00055819e+00,  3.23623307e+00, -3.60712775e-01,  5.75639616e-01,\n",
       "        8.08448591e-01,  2.33531650e+00,  2.44099465e+00, -4.94220049e-01,\n",
       "        1.00585629e+00,  1.68894771e+00,  1.87526874e+00,  2.49141254e+00,\n",
       "        6.16377584e-01,  1.45974741e+00, -1.72559775e-01,  1.03071926e+00,\n",
       "        1.26578907e+00,  1.94720845e-01,  9.46574310e-01,  4.81761979e-01,\n",
       "        2.51568250e+00,  2.34187846e+00,  2.05864103e+00,  3.05532309e+00,\n",
       "        1.38329937e+00,  1.75067625e+00, -1.36675584e+00, -1.33822578e-01,\n",
       "       -6.37287055e-01,  7.64579136e-01,  2.41200824e+00,  4.56618180e-01,\n",
       "        1.19491710e+00,  3.33126564e+00,  2.34806362e+00,  2.38084224e+00,\n",
       "        8.00604463e-01,  2.12431670e+00,  1.97655824e+00,  1.38668298e+00,\n",
       "        1.49335657e+00,  1.73330960e+00,  1.03385725e+00,  1.68453135e+00,\n",
       "        1.04936059e+00,  1.07560578e+00, -6.58902559e-01, -2.10526800e-01,\n",
       "        3.26696431e-01,  1.59013501e+00,  1.78920506e+00,  1.12230945e+00,\n",
       "        1.44447314e+00,  1.79796212e+00, -2.02732802e-01,  3.18342740e+00,\n",
       "        5.36393769e-01,  1.66263513e+00, -2.81586195e+00, -5.63300520e-01,\n",
       "        1.00957739e+00,  1.39448645e+00,  1.07453918e+00, -3.94160330e-02,\n",
       "        1.92414909e+00,  5.67871082e-01,  1.39290596e+00, -4.79050976e-01,\n",
       "       -1.50270327e+00, -1.73414816e+00,  2.10316432e+00,  1.90031240e+00,\n",
       "        8.90519826e-01, -6.09886721e-01,  1.29151798e+00,  9.28587697e-01,\n",
       "       -1.42486036e+00,  1.62063262e+00, -6.24599820e-01,  1.71836350e+00,\n",
       "       -2.29799711e+00,  2.52921847e+00,  1.32075260e-01,  1.04445589e+00,\n",
       "       -1.77810833e-01,  1.24758355e+00,  4.68074137e-01,  1.03565964e+00,\n",
       "        1.05974739e+00,  2.51605702e+00,  1.29096385e+00,  1.03261162e+00,\n",
       "        6.98279281e-01, -8.24858617e-02,  2.47265404e+00, -2.41651388e+00,\n",
       "        2.04888948e+00,  5.33182056e-01, -2.34218605e+00,  1.10300506e+00,\n",
       "        1.58438251e+00,  9.56630852e-01,  3.23926297e-03, -1.62497779e+00,\n",
       "        2.16428872e+00,  1.77840304e+00, -1.30960195e+00,  1.54638134e+00,\n",
       "       -3.86221756e-01,  1.05564048e+00,  1.93139736e+00,  8.06457118e-01,\n",
       "        1.63746146e+00, -2.16489307e-01,  2.49764298e+00, -1.36508063e+00,\n",
       "        1.02345776e+00,  1.70994940e+00,  4.05316853e-01,  2.95652791e+00,\n",
       "        1.70469139e+00,  1.33645255e+00,  2.45529844e+00,  1.02256091e+00,\n",
       "        4.74361579e-01,  2.49906263e+00,  1.45718956e+00,  1.99584114e+00,\n",
       "       -2.47287694e+00,  3.23881822e+00,  1.12575692e+00,  2.03457913e-01,\n",
       "        7.12734961e-01, -1.14333545e+00,  2.60662331e+00,  9.58480062e-01,\n",
       "        1.85335818e+00,  1.97058126e+00, -1.21336706e+00,  4.12300683e-01,\n",
       "        3.26432504e+00, -2.05288170e+00,  1.15933590e+00,  1.01564488e+00,\n",
       "        1.94999049e+00,  9.34402071e-01,  1.69299812e+00,  2.63597522e+00,\n",
       "        2.19091937e-02, -5.68692185e-01,  1.62499276e-01, -1.44334822e+00,\n",
       "        1.61444937e+00, -1.22531904e+00,  9.89422748e-01,  1.31120870e+00,\n",
       "        2.35173813e+00, -1.15729443e+00,  1.01280336e+00,  1.49258826e+00,\n",
       "       -1.45497307e+00, -8.70695642e-01, -8.19454780e-01,  2.20124490e-01,\n",
       "       -1.08192683e+00,  1.26178466e-01,  4.25122017e-01, -3.99437380e-01,\n",
       "        1.36954601e+00,  1.10290272e+00,  6.28906837e-01,  2.67717046e-01,\n",
       "       -1.97483579e+00, -7.94553273e-01, -3.79192328e-01, -1.49826319e-01,\n",
       "        2.70791169e+00,  1.21735148e+00,  9.46913019e-01,  5.08797471e-01,\n",
       "       -1.30493668e-01, -4.76227886e-01,  6.80617956e-01, -3.68647359e-01,\n",
       "       -2.08893948e+00,  1.31240363e+00,  1.69598121e+00, -8.36030297e-02,\n",
       "        1.73058086e+00, -2.99198355e-01,  1.80174904e+00, -2.70318263e-01,\n",
       "       -7.46760662e-01, -2.24422579e+00, -2.26063228e-01, -8.01880476e-01,\n",
       "       -8.30802770e-01,  2.25356234e-01, -1.56379437e+00,  9.83725072e-01,\n",
       "       -9.40908140e-01, -6.04800891e-01, -2.24494583e+00, -1.85582425e+00,\n",
       "       -2.54385288e+00,  1.76191096e+00,  1.15781089e+00, -2.26752650e+00,\n",
       "        1.79169048e+00,  1.03647548e+00, -1.91797354e+00, -1.14869188e+00,\n",
       "        1.19096456e+00,  6.60338184e-01, -7.18469153e-01,  1.43168012e+00,\n",
       "        2.31395477e+00, -2.80946709e-03, -9.31983090e-01,  1.41483252e+00,\n",
       "       -1.29739346e-01])"
      ]
     },
     "execution_count": 28,
     "metadata": {},
     "output_type": "execute_result"
    }
   ],
   "source": [
    "linregq1.coef_"
   ]
  },
  {
   "cell_type": "code",
   "execution_count": null,
   "id": "0b2bc9c1",
   "metadata": {},
   "outputs": [],
   "source": []
  }
 ],
 "metadata": {
  "kernelspec": {
   "display_name": "Python 3 (ipykernel)",
   "language": "python",
   "name": "python3"
  },
  "language_info": {
   "codemirror_mode": {
    "name": "ipython",
    "version": 3
   },
   "file_extension": ".py",
   "mimetype": "text/x-python",
   "name": "python",
   "nbconvert_exporter": "python",
   "pygments_lexer": "ipython3",
   "version": "3.11.4"
  }
 },
 "nbformat": 4,
 "nbformat_minor": 5
}
